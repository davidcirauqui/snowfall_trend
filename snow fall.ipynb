{
 "cells": [
  {
   "cell_type": "markdown",
   "metadata": {},
   "source": [
    "## Study of the evolution of snowfall in the catalan Pyrenees\n",
    "\n",
    "We will study the trend experienced in the snowfall pattern, from data of the daily evolution of the snow depth registered in various points in the catalan Pyrinees along the last decades. The main objective is then to study whether or not the total acumulated snowfall is decreasing.\n",
    "\n",
    "The snow depth data is obtained from the catalan meteorological service (Servei Meteorològic de Catalunya) and the catalan geological and cartographic institute (Institut Geològic i Cartogràfic de Catalunya). The data registers the snow depth with a daily frequency, from November 1st to May 31st. In case of very premature snowfall, which has therefore not been registered, it will be assumed that the initial snowdepth is due to a single snowfall event."
   ]
  },
  {
   "cell_type": "code",
   "execution_count": 1,
   "metadata": {},
   "outputs": [
    {
     "ename": "ModuleNotFoundError",
     "evalue": "No module named 'snowSeason'",
     "output_type": "error",
     "traceback": [
      "\u001b[1;31m---------------------------------------------------------------------------\u001b[0m",
      "\u001b[1;31mModuleNotFoundError\u001b[0m                       Traceback (most recent call last)",
      "Cell \u001b[1;32mIn[1], line 8\u001b[0m\n\u001b[0;32m      5\u001b[0m \u001b[38;5;28;01mfrom\u001b[39;00m \u001b[38;5;21;01mscipy\u001b[39;00m\u001b[38;5;21;01m.\u001b[39;00m\u001b[38;5;21;01moptimize\u001b[39;00m \u001b[38;5;28;01mimport\u001b[39;00m curve_fit\n\u001b[0;32m      7\u001b[0m \u001b[38;5;66;03m# libraries containing the developed classes and functions\u001b[39;00m\n\u001b[1;32m----> 8\u001b[0m \u001b[38;5;28;01mimport\u001b[39;00m \u001b[38;5;21;01msnowSeason\u001b[39;00m \u001b[38;5;28;01mas\u001b[39;00m \u001b[38;5;21;01mss\u001b[39;00m\n\u001b[0;32m      9\u001b[0m \u001b[38;5;28;01mimport\u001b[39;00m \u001b[38;5;21;01mfunctions\u001b[39;00m \u001b[38;5;28;01mas\u001b[39;00m \u001b[38;5;21;01mf\u001b[39;00m\n",
      "\u001b[1;31mModuleNotFoundError\u001b[0m: No module named 'snowSeason'"
     ]
    }
   ],
   "source": [
    "# basic libraries\n",
    "import pandas as pd\n",
    "import numpy as np\n",
    "import matplotlib.pyplot as plt\n",
    "from scipy.optimize import curve_fit\n",
    "\n",
    "# libraries containing the developed classes and functions\n",
    "import snowSeason as ss\n",
    "import functions as f"
   ]
  },
  {
   "cell_type": "markdown",
   "metadata": {},
   "source": [
    "### Reanalysis\n",
    "\n",
    "Due to the usually remoteness and harsh climatological conditions of the meteorological stations where the measurements are carried on, there might be days in which the data is incorrectly registered, or even no registered at all some days, such that the raw data contains invalid values of the snow depths. As we are interested in studying the snowfall episodes, this fact can yield an overestimation of it.\n",
    "\n",
    "In order to interpolate the missing data, we consider a situation in which there are no additional snowfall episodes and hence that the snow depth steadily decreases. As a thermodynamic first order approximation, we assume the snow depth $D(t)$ to decrease at a rate inversely proportional to the current depth:\n",
    "\\begin{equation}\n",
    "\\frac{dD(t)}{dt} = -\\frac{\\kappa}{D(t)},\n",
    "\\end{equation}\n",
    "with $\\kappa$ a strictly positive constant defining the melting rate. This equation can be integrated to yield\n",
    "\\begin{equation}  \n",
    "D(t) = \\sqrt{D_0^2 - 2\\kappa t},\n",
    "\\end{equation}\n",
    "where $D_0$ is the starting depth. The melting rate is thus defined as $\\kappa = (D_0^2 - D_f^2) / 2\\Delta t$, where $\\Delta t$ is the time spent for the snow depth to evolve from $D_0$ to $D_f < D_0$. The rate $\\kappa$ will obviously depend on the instantaneous meteorological conditions, as well as on the microclimate characterising each measurement station, but we will assume, for the sake of simplicity, two different and constant values depending on whether the measurements are taken within the first part of the season (initial 70% of the days) or in the second part (last 30% of the days), as the temperatures tend to rapidly rise in the later. By inspection of various cases, we set a value of $\\kappa = 150$ for the first part and $\\kappa=400$ for the second one.\n",
    "\n",
    "By applying this correction to the measured data we obtain much realistic evolutions:"
   ]
  },
  {
   "cell_type": "code",
   "execution_count": null,
   "metadata": {},
   "outputs": [],
   "source": [
    "plt.figure(figsize = [10, 3])\n",
    "\n",
    "plt.subplot(1, 2, 1)\n",
    "plt.plot(snowDepth_LacRedon, label = 'raw data')\n",
    "snowDepth_LacRedon = f.correctSnowDepth(snowDepth_LacRedon)    # correct data\n",
    "plt.plot(snowDepth_LacRedon, '--', label = 'corrected data')\n",
    "plt.ylabel('snow depth [cm]')\n",
    "plt.xlabel('days since November 1st')\n",
    "plt.legend(loc = 'upper right')\n",
    "plt.title('Lac Redon 2247, 2009-2010')\n",
    "\n",
    "plt.subplot(1, 2, 2)\n",
    "plt.plot(snowDepth_PratdAguilo, label = 'raw data')\n",
    "snowDepth_PratdAguilo = f.correctSnowDepth(snowDepth_PratdAguilo)    # correct data\n",
    "plt.plot(snowDepth_PratdAguilo, '--', label = 'corrected data')\n",
    "plt.ylabel('snow depth [cm]')\n",
    "plt.xlabel('days since November 1st')\n",
    "plt.legend()\n",
    "plt.title('Cadí Nord - Prat d Aguiló 2143, 2008-2009')\n",
    "\n",
    "plt.tight_layout()\n",
    "plt.show()"
   ]
  },
  {
   "cell_type": "markdown",
   "metadata": {},
   "source": [
    "Fig. 1) Time evolution of the snow depth in Lac Redon 2247 and Cadí Nord - Prat d'Aguiló 2143. Raw data (blue) and corrected data (orange). We observe how the rapid decrease and increase of the snow depth in both cases was clearly non-realistic, and would have yielded an overestimation of the snowfall."
   ]
  },
  {
   "cell_type": "markdown",
   "metadata": {},
   "source": [
    "### Read and correct data"
   ]
  },
  {
   "cell_type": "code",
   "execution_count": null,
   "metadata": {},
   "outputs": [],
   "source": [
    "stations = ['Boí 2535', 'Bonaigua 2266', 'Cadí Nord - Prat d Aguiló 2143', 'Certascan 2400', 'El Port del Comte 2316',\n",
    "            'Espot 2519', 'Lac Redon 2247', 'Malniu 2230', 'Núria 1971', 'Pastuira 2000', 'Salòria 2451', 'Sasseuva 2228',\n",
    "            'Ulldeter 2364', 'Ulldeter 2410']\n",
    "\n",
    "\n",
    "# run through all stations\n",
    "stationDic = {}\n",
    "for station in stations:\n",
    "    \n",
    "    # define path to read data from\n",
    "    path = 'data/' + station + '.xlsx'\n",
    "    \n",
    "    # read data corrsponding to the current station\n",
    "    data = pd.read_excel(path)\n",
    "    keys = data.keys()\n",
    "\n",
    "    # read dates\n",
    "    dates = data[keys[0]]\n",
    "\n",
    "    # run through all seasons\n",
    "    seasonDic = {}\n",
    "    for seasonYear in keys[1:]:\n",
    "        seasonData = data[seasonYear]\n",
    "\n",
    "        # read snow depths for each season\n",
    "        snowDepth = np.zeros(len(seasonData)) \n",
    "        for i in range(len(seasonData)):\n",
    "            if (type(seasonData[i]) != str):\n",
    "                if not (np.isnan(seasonData[i])):\n",
    "                    snowDepth[i] = seasonData[i]\n",
    "\n",
    "\n",
    "        # correct snow depths\n",
    "        snowDepth = f.correctSnowDepth(snowDepth)\n",
    "\n",
    "        # store season in a dictionary, with years as key\n",
    "        seasonDic[seasonYear] = ss.snowSeason(snowDepth, dates)\n",
    "        \n",
    "    \n",
    "    # store seasonDic in a dictionary, with station as key\n",
    "    stationDic[station] = seasonDic"
   ]
  }
 ],
 "metadata": {
  "kernelspec": {
   "display_name": "base",
   "language": "python",
   "name": "python3"
  },
  "language_info": {
   "codemirror_mode": {
    "name": "ipython",
    "version": 3
   },
   "file_extension": ".py",
   "mimetype": "text/x-python",
   "name": "python",
   "nbconvert_exporter": "python",
   "pygments_lexer": "ipython3",
   "version": "3.9.19"
  }
 },
 "nbformat": 4,
 "nbformat_minor": 2
}
